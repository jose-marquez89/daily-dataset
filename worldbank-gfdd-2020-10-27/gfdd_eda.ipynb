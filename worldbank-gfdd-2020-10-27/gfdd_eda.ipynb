{
 "cells": [
  {
   "cell_type": "markdown",
   "metadata": {},
   "source": [
    "# World Bank Data"
   ]
  },
  {
   "cell_type": "code",
   "execution_count": 2,
   "metadata": {},
   "outputs": [],
   "source": [
    "import pandas as pd\n",
    "import numpy as np\n",
    "import matplotlib.pyplot as plt\n",
    "import seaborn as sns"
   ]
  },
  {
   "cell_type": "code",
   "execution_count": 3,
   "metadata": {},
   "outputs": [],
   "source": [
    "def transform(data: pd.DataFrame) -> pd.DataFrame:\n",
    "    \"\"\"\n",
    "    Transposes csv data so that years are rows and\n",
    "    indicators are columns\n",
    "    \"\"\"\n",
    "\n",
    "    # isolate unique countries\n",
    "    countries = data[\"Country Name\"].unique()\n",
    "    tables = []\n",
    "\n",
    "    for country in countries:\n",
    "        subset = data.loc[data[\"Country Name\"] == country]\n",
    "        country_name = subset[\"Country Name\"].iloc[0]\n",
    "        country_code = subset[\"Country Code\"].iloc[0]\n",
    "\n",
    "        subset = subset.drop(columns=[\"Country Code\", \n",
    "                                      \"Country Name\",\n",
    "                                      \"Indicator Code\"])\n",
    "        \n",
    "        subset = subset.set_index(\"Indicator Name\")\n",
    "        subset = subset.T\n",
    "        subset[\"Year\"] = subset.index\n",
    "        subset[\"Country Name\"] = country_name\n",
    "        subset[\"Country Code\"] = country_code\n",
    "        subset = subset.reset_index(drop=True)\n",
    "        subset.columns.name = None\n",
    "        # include only rows where at least one native data point exists\n",
    "        subset = subset.dropna(thresh=4)\n",
    "        # drop all columns where 80% of the data is missing\n",
    "        subset = subset.dropna(thresh=int(subset.shape[0] * .2), axis=1)\n",
    "\n",
    "        tables.append(subset)\n",
    "\n",
    "    output = pd.concat(tables)\n",
    "    return output"
   ]
  }
 ],
 "metadata": {
  "kernelspec": {
   "display_name": "Python (data-gov)",
   "language": "python",
   "name": "data-gov"
  },
  "language_info": {
   "codemirror_mode": {
    "name": "ipython",
    "version": 3
   },
   "file_extension": ".py",
   "mimetype": "text/x-python",
   "name": "python",
   "nbconvert_exporter": "python",
   "pygments_lexer": "ipython3",
   "version": "3.7.0"
  }
 },
 "nbformat": 4,
 "nbformat_minor": 4
}
