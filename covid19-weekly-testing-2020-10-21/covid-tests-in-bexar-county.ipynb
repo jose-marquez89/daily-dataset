{
 "cells": [
  {
   "cell_type": "code",
   "execution_count": 1,
   "metadata": {},
   "outputs": [],
   "source": [
    "import re\n",
    "\n",
    "import pandas as pd\n",
    "import numpy as np\n",
    "import matplotlib.pyplot as plt\n",
    "import matplotlib.dates as mdates\n",
    "import seaborn as sns\n",
    "from pandas_profiling import ProfileReport"
   ]
  },
  {
   "cell_type": "code",
   "execution_count": 2,
   "metadata": {},
   "outputs": [],
   "source": [
    "df = pd.read_csv(\"covid19weekly.csv\", parse_dates=[4])"
   ]
  },
  {
   "cell_type": "markdown",
   "metadata": {},
   "source": [
    "### Basic Details"
   ]
  },
  {
   "cell_type": "markdown",
   "metadata": {},
   "source": [
    "The dataset has 29 observations with 11 features"
   ]
  },
  {
   "cell_type": "code",
   "execution_count": 3,
   "metadata": {},
   "outputs": [
    {
     "data": {
      "text/plain": [
       "(29, 11)"
      ]
     },
     "execution_count": 3,
     "metadata": {},
     "output_type": "execute_result"
    }
   ],
   "source": [
    "df.shape"
   ]
  },
  {
   "cell_type": "code",
   "execution_count": 4,
   "metadata": {},
   "outputs": [
    {
     "data": {
      "text/html": [
       "<div>\n",
       "<style scoped>\n",
       "    .dataframe tbody tr th:only-of-type {\n",
       "        vertical-align: middle;\n",
       "    }\n",
       "\n",
       "    .dataframe tbody tr th {\n",
       "        vertical-align: top;\n",
       "    }\n",
       "\n",
       "    .dataframe thead th {\n",
       "        text-align: right;\n",
       "    }\n",
       "</style>\n",
       "<table border=\"1\" class=\"dataframe\">\n",
       "  <thead>\n",
       "    <tr style=\"text-align: right;\">\n",
       "      <th></th>\n",
       "      <th>X</th>\n",
       "      <th>Y</th>\n",
       "      <th>objectid</th>\n",
       "      <th>globalid</th>\n",
       "      <th>enter_web_posting_date</th>\n",
       "      <th>week_duration</th>\n",
       "      <th>weekly_bexar_county_total_tests</th>\n",
       "      <th>weekly_bexar_county_negative_an</th>\n",
       "      <th>weekly_bexar_county_positive_te</th>\n",
       "      <th>percent_weekly_bexar_county_pos</th>\n",
       "      <th>number_of_labs_included</th>\n",
       "    </tr>\n",
       "  </thead>\n",
       "  <tbody>\n",
       "    <tr>\n",
       "      <th>0</th>\n",
       "      <td>0.0</td>\n",
       "      <td>0.0</td>\n",
       "      <td>1</td>\n",
       "      <td>{46EC6745-37B4-4B0F-8F0F-A2AAAE09B539}</td>\n",
       "      <td>2020-04-05 17:00:00</td>\n",
       "      <td>3/30 - 4/5</td>\n",
       "      <td>3378</td>\n",
       "      <td>2987</td>\n",
       "      <td>391</td>\n",
       "      <td>11.6</td>\n",
       "      <td>10</td>\n",
       "    </tr>\n",
       "    <tr>\n",
       "      <th>1</th>\n",
       "      <td>0.0</td>\n",
       "      <td>0.0</td>\n",
       "      <td>2</td>\n",
       "      <td>{6B5C3442-9887-4ABD-873F-1B28CFD4C16C}</td>\n",
       "      <td>2020-04-12 17:00:00</td>\n",
       "      <td>4/6 - 4/12</td>\n",
       "      <td>3149</td>\n",
       "      <td>2888</td>\n",
       "      <td>261</td>\n",
       "      <td>8.3</td>\n",
       "      <td>12</td>\n",
       "    </tr>\n",
       "    <tr>\n",
       "      <th>2</th>\n",
       "      <td>0.0</td>\n",
       "      <td>0.0</td>\n",
       "      <td>3</td>\n",
       "      <td>{60B25B85-D57E-48CA-8848-EA44CC2207D7}</td>\n",
       "      <td>2020-04-19 17:00:00</td>\n",
       "      <td>4/13 - 4/19</td>\n",
       "      <td>5158</td>\n",
       "      <td>4916</td>\n",
       "      <td>242</td>\n",
       "      <td>4.7</td>\n",
       "      <td>14</td>\n",
       "    </tr>\n",
       "    <tr>\n",
       "      <th>3</th>\n",
       "      <td>0.0</td>\n",
       "      <td>0.0</td>\n",
       "      <td>4</td>\n",
       "      <td>{ED459847-8569-40BA-82A0-679AD3C4771A}</td>\n",
       "      <td>2020-04-26 17:00:00</td>\n",
       "      <td>4/20 - 4/26</td>\n",
       "      <td>7560</td>\n",
       "      <td>7125</td>\n",
       "      <td>435</td>\n",
       "      <td>5.8</td>\n",
       "      <td>17</td>\n",
       "    </tr>\n",
       "    <tr>\n",
       "      <th>4</th>\n",
       "      <td>0.0</td>\n",
       "      <td>0.0</td>\n",
       "      <td>5</td>\n",
       "      <td>{E9D344A4-3967-44DB-80B7-2A45E364C32F}</td>\n",
       "      <td>2020-05-03 17:00:00</td>\n",
       "      <td>4/27 - 5/3</td>\n",
       "      <td>7000</td>\n",
       "      <td>6604</td>\n",
       "      <td>396</td>\n",
       "      <td>5.7</td>\n",
       "      <td>17</td>\n",
       "    </tr>\n",
       "  </tbody>\n",
       "</table>\n",
       "</div>"
      ],
      "text/plain": [
       "     X    Y  objectid                                globalid  \\\n",
       "0  0.0  0.0         1  {46EC6745-37B4-4B0F-8F0F-A2AAAE09B539}   \n",
       "1  0.0  0.0         2  {6B5C3442-9887-4ABD-873F-1B28CFD4C16C}   \n",
       "2  0.0  0.0         3  {60B25B85-D57E-48CA-8848-EA44CC2207D7}   \n",
       "3  0.0  0.0         4  {ED459847-8569-40BA-82A0-679AD3C4771A}   \n",
       "4  0.0  0.0         5  {E9D344A4-3967-44DB-80B7-2A45E364C32F}   \n",
       "\n",
       "  enter_web_posting_date week_duration  weekly_bexar_county_total_tests  \\\n",
       "0    2020-04-05 17:00:00    3/30 - 4/5                             3378   \n",
       "1    2020-04-12 17:00:00    4/6 - 4/12                             3149   \n",
       "2    2020-04-19 17:00:00   4/13 - 4/19                             5158   \n",
       "3    2020-04-26 17:00:00   4/20 - 4/26                             7560   \n",
       "4    2020-05-03 17:00:00    4/27 - 5/3                             7000   \n",
       "\n",
       "   weekly_bexar_county_negative_an  weekly_bexar_county_positive_te  \\\n",
       "0                             2987                              391   \n",
       "1                             2888                              261   \n",
       "2                             4916                              242   \n",
       "3                             7125                              435   \n",
       "4                             6604                              396   \n",
       "\n",
       "   percent_weekly_bexar_county_pos  number_of_labs_included  \n",
       "0                             11.6                       10  \n",
       "1                              8.3                       12  \n",
       "2                              4.7                       14  \n",
       "3                              5.8                       17  \n",
       "4                              5.7                       17  "
      ]
     },
     "execution_count": 4,
     "metadata": {},
     "output_type": "execute_result"
    }
   ],
   "source": [
    "df.head()"
   ]
  },
  {
   "cell_type": "markdown",
   "metadata": {},
   "source": [
    "What are the `X` and `Y` columns? These columns don't seem to provide any information."
   ]
  },
  {
   "cell_type": "code",
   "execution_count": 5,
   "metadata": {},
   "outputs": [
    {
     "name": "stdout",
     "output_type": "stream",
     "text": [
      "X values\n",
      "==========\n",
      "0.0    29\n",
      "Name: X, dtype: int64\n",
      "Y values\n",
      "==========\n",
      "0.0    29\n",
      "Name: Y, dtype: int64\n"
     ]
    }
   ],
   "source": [
    "print(\"X values\\n==========\")\n",
    "print(df[\"X\"].value_counts())\n",
    "print(\"Y values\\n==========\")\n",
    "print(df[\"Y\"].value_counts())"
   ]
  },
  {
   "cell_type": "markdown",
   "metadata": {},
   "source": [
    "The `week_duration` column was written in a way that isn't very helpul for analysis:"
   ]
  },
  {
   "cell_type": "code",
   "execution_count": 6,
   "metadata": {},
   "outputs": [
    {
     "data": {
      "text/plain": [
       "0      3/30 - 4/5\n",
       "1      4/6 - 4/12\n",
       "2     4/13 - 4/19\n",
       "3     4/20 - 4/26\n",
       "4      4/27 - 5/3\n",
       "5      5/4 - 5/10\n",
       "6     5/11 - 5/17\n",
       "7     5/17 - 5/23\n",
       "8     5/24 - 5/30\n",
       "9      5/31 - 6/6\n",
       "10    6/07 - 6/13\n",
       "11    6/14 - 6/20\n",
       "12    6/21 - 6/27\n",
       "13     6/28 - 7/4\n",
       "14     7/5 - 7/11\n",
       "15      7/12-7/18\n",
       "16      7/19-7/25\n",
       "17     7/26 - 8/1\n",
       "18      8/2 - 8/8\n",
       "19     8/9 - 8/15\n",
       "20      8/16-8/22\n",
       "21      8/23-8/29\n",
       "22     8/30 - 9/5\n",
       "23    9/16 - 9/12\n",
       "24      9/13-9/19\n",
       "25      9/20-9/26\n",
       "26      9/27-10/3\n",
       "27     10/4-10/10\n",
       "28    10/11-10/17\n",
       "Name: week_duration, dtype: object"
      ]
     },
     "execution_count": 6,
     "metadata": {},
     "output_type": "execute_result"
    }
   ],
   "source": [
    "df.week_duration"
   ]
  },
  {
   "cell_type": "markdown",
   "metadata": {},
   "source": [
    "The 24th `week_duration` entry is reversed, pandas can be used to replace it in all in one function"
   ]
  },
  {
   "cell_type": "code",
   "execution_count": 7,
   "metadata": {},
   "outputs": [],
   "source": [
    "def separate_date_range(date_range):\n",
    "    \"\"\"\n",
    "    Return a pandas Series object with Timedelta duration in days\n",
    "    \"\"\"\n",
    "    ptn = r\"(\\d+\\/\\d+)[\\-\\s]+(\\d+\\/\\d+)\"\n",
    "    start = pd.to_datetime(date_range.str.replace(ptn, \"\\g<1>/2020\"))\n",
    "    end = pd.to_datetime(date_range.str.replace(ptn, \"\\g<2>/2020\"))\n",
    "    \n",
    "    # flip date ranges that are in the wrong order\n",
    "    check = pd.DataFrame({\"start\": start, \"end\": end}).values\n",
    "    check = np.sort(check, axis=1)\n",
    "    \n",
    "    duration = pd.DataFrame(check, columns=[\"start\", \"end\"])\n",
    "    duration = duration.end - duration.start\n",
    "    \n",
    "    return duration"
   ]
  },
  {
   "cell_type": "markdown",
   "metadata": {},
   "source": [
    "Not entirely revelatory, but it looks like the 29 testing periods were almost exclusively 6-day weeks."
   ]
  },
  {
   "cell_type": "code",
   "execution_count": 8,
   "metadata": {},
   "outputs": [
    {
     "data": {
      "image/png": "[encoded data removed]",
      "text/plain": [
       "<Figure size 432x288 with 1 Axes>"
      ]
     },
     "metadata": {
      "needs_background": "light"
     },
     "output_type": "display_data"
    }
   ],
   "source": [
    "df[\"duration_days\"] = separate_date_range(df[\"week_duration\"])\n",
    "df[\"duration_days\"].value_counts().plot.bar()\n",
    "plt.xticks(ticks=range(2), labels=[\"6 Days\", \"4 days\"])\n",
    "plt.title(\"Testing Week Durations\");"
   ]
  },
  {
   "cell_type": "markdown",
   "metadata": {},
   "source": [
    "What are the date ranges for this testing data? It appears that the data contains 29 weeks of testing from\n",
    "April 5th, 2020 to October 18th, 2020."
   ]
  },
  {
   "cell_type": "code",
   "execution_count": 9,
   "metadata": {},
   "outputs": [
    {
     "name": "stdout",
     "output_type": "stream",
     "text": [
      "There are 29 unique entry dates\n",
      "The earliest date: 2020-04-05 17:00:00\n",
      "The latest date: 2020-10-18 17:00:00\n"
     ]
    }
   ],
   "source": [
    "print(\"There are {} unique entry dates\".format(df[\"enter_web_posting_date\"].nunique()))\n",
    "print(\"The earliest date: {}\".format(df[\"enter_web_posting_date\"].min()))\n",
    "print(\"The latest date: {}\".format(df[\"enter_web_posting_date\"].max()))"
   ]
  },
  {
   "cell_type": "code",
   "execution_count": 10,
   "metadata": {},
   "outputs": [
    {
     "data": {
      "text/html": [
       "<div>\n",
       "<style scoped>\n",
       "    .dataframe tbody tr th:only-of-type {\n",
       "        vertical-align: middle;\n",
       "    }\n",
       "\n",
       "    .dataframe tbody tr th {\n",
       "        vertical-align: top;\n",
       "    }\n",
       "\n",
       "    .dataframe thead th {\n",
       "        text-align: right;\n",
       "    }\n",
       "</style>\n",
       "<table border=\"1\" class=\"dataframe\">\n",
       "  <thead>\n",
       "    <tr style=\"text-align: right;\">\n",
       "      <th></th>\n",
       "      <th>X</th>\n",
       "      <th>Y</th>\n",
       "      <th>objectid</th>\n",
       "      <th>weekly_bexar_county_total_tests</th>\n",
       "      <th>weekly_bexar_county_negative_an</th>\n",
       "      <th>weekly_bexar_county_positive_te</th>\n",
       "      <th>percent_weekly_bexar_county_pos</th>\n",
       "      <th>number_of_labs_included</th>\n",
       "      <th>duration_days</th>\n",
       "    </tr>\n",
       "  </thead>\n",
       "  <tbody>\n",
       "    <tr>\n",
       "      <th>count</th>\n",
       "      <td>29.0</td>\n",
       "      <td>29.0</td>\n",
       "      <td>29.000000</td>\n",
       "      <td>29.000000</td>\n",
       "      <td>29.000000</td>\n",
       "      <td>29.000000</td>\n",
       "      <td>29.000000</td>\n",
       "      <td>29.000000</td>\n",
       "      <td>29</td>\n",
       "    </tr>\n",
       "    <tr>\n",
       "      <th>mean</th>\n",
       "      <td>0.0</td>\n",
       "      <td>0.0</td>\n",
       "      <td>15.586207</td>\n",
       "      <td>12037.724138</td>\n",
       "      <td>10575.482759</td>\n",
       "      <td>1462.241379</td>\n",
       "      <td>9.886897</td>\n",
       "      <td>19.172414</td>\n",
       "      <td>5 days 22:20:41.379310344</td>\n",
       "    </tr>\n",
       "    <tr>\n",
       "      <th>std</th>\n",
       "      <td>0.0</td>\n",
       "      <td>0.0</td>\n",
       "      <td>8.946337</td>\n",
       "      <td>5524.438794</td>\n",
       "      <td>4087.201703</td>\n",
       "      <td>1598.994609</td>\n",
       "      <td>6.359232</td>\n",
       "      <td>4.045005</td>\n",
       "      <td>0 days 08:54:48.154436994</td>\n",
       "    </tr>\n",
       "    <tr>\n",
       "      <th>min</th>\n",
       "      <td>0.0</td>\n",
       "      <td>0.0</td>\n",
       "      <td>1.000000</td>\n",
       "      <td>3149.000000</td>\n",
       "      <td>2888.000000</td>\n",
       "      <td>242.000000</td>\n",
       "      <td>3.500000</td>\n",
       "      <td>10.000000</td>\n",
       "      <td>4 days 00:00:00</td>\n",
       "    </tr>\n",
       "    <tr>\n",
       "      <th>25%</th>\n",
       "      <td>0.0</td>\n",
       "      <td>0.0</td>\n",
       "      <td>8.000000</td>\n",
       "      <td>9110.000000</td>\n",
       "      <td>8559.000000</td>\n",
       "      <td>396.000000</td>\n",
       "      <td>5.700000</td>\n",
       "      <td>15.000000</td>\n",
       "      <td>6 days 00:00:00</td>\n",
       "    </tr>\n",
       "    <tr>\n",
       "      <th>50%</th>\n",
       "      <td>0.0</td>\n",
       "      <td>0.0</td>\n",
       "      <td>16.000000</td>\n",
       "      <td>11074.000000</td>\n",
       "      <td>10473.000000</td>\n",
       "      <td>647.000000</td>\n",
       "      <td>6.700000</td>\n",
       "      <td>21.000000</td>\n",
       "      <td>6 days 00:00:00</td>\n",
       "    </tr>\n",
       "    <tr>\n",
       "      <th>75%</th>\n",
       "      <td>0.0</td>\n",
       "      <td>0.0</td>\n",
       "      <td>23.000000</td>\n",
       "      <td>13415.000000</td>\n",
       "      <td>12151.000000</td>\n",
       "      <td>1707.000000</td>\n",
       "      <td>12.700000</td>\n",
       "      <td>23.000000</td>\n",
       "      <td>6 days 00:00:00</td>\n",
       "    </tr>\n",
       "    <tr>\n",
       "      <th>max</th>\n",
       "      <td>0.0</td>\n",
       "      <td>0.0</td>\n",
       "      <td>30.000000</td>\n",
       "      <td>24437.000000</td>\n",
       "      <td>19060.000000</td>\n",
       "      <td>5377.000000</td>\n",
       "      <td>24.200000</td>\n",
       "      <td>23.000000</td>\n",
       "      <td>6 days 00:00:00</td>\n",
       "    </tr>\n",
       "  </tbody>\n",
       "</table>\n",
       "</div>"
      ],
      "text/plain": [
       "          X     Y   objectid  weekly_bexar_county_total_tests  \\\n",
       "count  29.0  29.0  29.000000                        29.000000   \n",
       "mean    0.0   0.0  15.586207                     12037.724138   \n",
       "std     0.0   0.0   8.946337                      5524.438794   \n",
       "min     0.0   0.0   1.000000                      3149.000000   \n",
       "25%     0.0   0.0   8.000000                      9110.000000   \n",
       "50%     0.0   0.0  16.000000                     11074.000000   \n",
       "75%     0.0   0.0  23.000000                     13415.000000   \n",
       "max     0.0   0.0  30.000000                     24437.000000   \n",
       "\n",
       "       weekly_bexar_county_negative_an  weekly_bexar_county_positive_te  \\\n",
       "count                        29.000000                        29.000000   \n",
       "mean                      10575.482759                      1462.241379   \n",
       "std                        4087.201703                      1598.994609   \n",
       "min                        2888.000000                       242.000000   \n",
       "25%                        8559.000000                       396.000000   \n",
       "50%                       10473.000000                       647.000000   \n",
       "75%                       12151.000000                      1707.000000   \n",
       "max                       19060.000000                      5377.000000   \n",
       "\n",
       "       percent_weekly_bexar_county_pos  number_of_labs_included  \\\n",
       "count                        29.000000                29.000000   \n",
       "mean                          9.886897                19.172414   \n",
       "std                           6.359232                 4.045005   \n",
       "min                           3.500000                10.000000   \n",
       "25%                           5.700000                15.000000   \n",
       "50%                           6.700000                21.000000   \n",
       "75%                          12.700000                23.000000   \n",
       "max                          24.200000                23.000000   \n",
       "\n",
       "                   duration_days  \n",
       "count                         29  \n",
       "mean   5 days 22:20:41.379310344  \n",
       "std    0 days 08:54:48.154436994  \n",
       "min              4 days 00:00:00  \n",
       "25%              6 days 00:00:00  \n",
       "50%              6 days 00:00:00  \n",
       "75%              6 days 00:00:00  \n",
       "max              6 days 00:00:00  "
      ]
     },
     "execution_count": 10,
     "metadata": {},
     "output_type": "execute_result"
    }
   ],
   "source": [
    "df.describe()"
   ]
  },
  {
   "cell_type": "markdown",
   "metadata": {},
   "source": [
    "Object id #13 is missing, it goes up to 30 but there are only 29 observations"
   ]
  },
  {
   "cell_type": "code",
   "execution_count": 11,
   "metadata": {},
   "outputs": [
    {
     "data": {
      "text/plain": [
       "[1,\n",
       " 2,\n",
       " 3,\n",
       " 4,\n",
       " 5,\n",
       " 6,\n",
       " 7,\n",
       " 8,\n",
       " 9,\n",
       " 10,\n",
       " 11,\n",
       " 12,\n",
       " 14,\n",
       " 15,\n",
       " 16,\n",
       " 17,\n",
       " 18,\n",
       " 19,\n",
       " 20,\n",
       " 21,\n",
       " 22,\n",
       " 23,\n",
       " 24,\n",
       " 25,\n",
       " 26,\n",
       " 27,\n",
       " 28,\n",
       " 29,\n",
       " 30]"
      ]
     },
     "execution_count": 11,
     "metadata": {},
     "output_type": "execute_result"
    }
   ],
   "source": [
    "sorted(df[\"objectid\"].value_counts().index)"
   ]
  },
  {
   "cell_type": "markdown",
   "metadata": {},
   "source": [
    "### Plots"
   ]
  },
  {
   "cell_type": "markdown",
   "metadata": {},
   "source": [
    "How have positive tests changed over the year?"
   ]
  },
  {
   "cell_type": "code",
   "execution_count": 12,
   "metadata": {},
   "outputs": [
    {
     "data": {
      "image/png": "[encoded data removed]",
      "text/plain": [
       "<Figure size 432x288 with 1 Axes>"
      ]
     },
     "metadata": {
      "needs_background": "light"
     },
     "output_type": "display_data"
    }
   ],
   "source": [
    "df.plot(x=\"enter_web_posting_date\", y=\"percent_weekly_bexar_county_pos\");"
   ]
  },
  {
   "cell_type": "markdown",
   "metadata": {},
   "source": [
    "What do the proportions of tests look like in relation to the total?"
   ]
  },
  {
   "cell_type": "code",
   "execution_count": 19,
   "metadata": {},
   "outputs": [
    {
     "data": {
      "image/png": "[encoded data removed]",
      "text/plain": [
       "<Figure size 864x360 with 1 Axes>"
      ]
     },
     "metadata": {},
     "output_type": "display_data"
    }
   ],
   "source": [
    "plt.style.use(\"seaborn\")\n",
    "\n",
    "months_fmt = mdates.DateFormatter(\"%B\")\n",
    "labels = [\"Total\", \"Negative\", \"Positive\"]\n",
    "months = [\"Apr\", \"May\", \"Jun\", \"Jul\", \"Aug\", \"Sep\", \"Oct\"]\n",
    "\n",
    "fig, ax = plt.subplots(figsize=(12, 5))\n",
    "\n",
    "ax.fill_between(df[\"enter_web_posting_date\"],\n",
    "                df[\"weekly_bexar_county_total_tests\"], 0, \n",
    "                color=\"#004499\", label=\"Total Tests\")\n",
    "ax.fill_between(df[\"enter_web_posting_date\"],\n",
    "                df[\"weekly_bexar_county_negative_an\"], 0, \n",
    "                color=\"#377E39\", label=\"Negative Tests\")\n",
    "ax.fill_between(df[\"enter_web_posting_date\"],\n",
    "                df[\"weekly_bexar_county_positive_te\"], 0, \n",
    "                color=\"#C82323\", label=\"Positive Tests\")\n",
    "\n",
    "ax.xaxis.set_major_formatter(months_fmt)\n",
    "\n",
    "plt.yticks(ticks=range(0, 25001, 5000),labels=[\"0\", \"5\", \"10\", \"15\", \"20\", \"25k\"])\n",
    "plt.ylabel(\"Tests\")\n",
    "\n",
    "plt.title(\"Covid-19 Tests In Bexar County: 2020\", size=16, weight=\"bold\")\n",
    "plt.legend()\n",
    "plt.show();"
   ]
  }
 ],
 "metadata": {
  "kernelspec": {
   "display_name": "Python 3",
   "language": "python",
   "name": "python3"
  },
  "language_info": {
   "codemirror_mode": {
    "name": "ipython",
    "version": 3
   },
   "file_extension": ".py",
   "mimetype": "text/x-python",
   "name": "python",
   "nbconvert_exporter": "python",
   "pygments_lexer": "ipython3",
   "version": "3.8.1"
  }
 },
 "nbformat": 4,
 "nbformat_minor": 4
}
